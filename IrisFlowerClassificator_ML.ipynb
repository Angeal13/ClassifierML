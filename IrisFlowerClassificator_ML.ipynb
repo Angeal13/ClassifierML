{
  "nbformat": 4,
  "nbformat_minor": 0,
  "metadata": {
    "colab": {
      "name": "IrisFlowerClassificator_ML.ipynb",
      "provenance": [],
      "collapsed_sections": [],
      "include_colab_link": true
    },
    "kernelspec": {
      "display_name": "Python 3",
      "name": "python3"
    }
  },
  "cells": [
    {
      "cell_type": "markdown",
      "metadata": {
        "id": "view-in-github",
        "colab_type": "text"
      },
      "source": [
        "<a href=\"https://colab.research.google.com/github/Angeal13/ClassifierML/blob/master/IrisFlowerClassificator_ML.ipynb\" target=\"_parent\"><img src=\"https://colab.research.google.com/assets/colab-badge.svg\" alt=\"Open In Colab\"/></a>"
      ]
    },
    {
      "cell_type": "code",
      "metadata": {
        "id": "YHIakmoMLf-X"
      },
      "source": [
        "\n",
        "%tensorflow_version 2.x"
      ],
      "execution_count": 1,
      "outputs": []
    },
    {
      "cell_type": "code",
      "metadata": {
        "id": "KdF6S00yOXka"
      },
      "source": [
        "from __future__ import absolute_import,division,print_function,unicode_literals\n",
        "\n",
        "import tensorflow as tf\n",
        "\n",
        "import pandas as pd"
      ],
      "execution_count": 2,
      "outputs": []
    },
    {
      "cell_type": "code",
      "metadata": {
        "id": "Ukhd--hfOviC"
      },
      "source": [
        "CSV_COLUMN_NAMES=['SepalLength','SepalWidth','PetalLength','PetalWidth','Species']\n",
        "SPECIES=['Setosa','Versicolor','Virginia'] #Defince constant that will help later"
      ],
      "execution_count": 3,
      "outputs": []
    },
    {
      "cell_type": "code",
      "metadata": {
        "id": "SaNxsrDTRmuk",
        "colab": {
          "base_uri": "https://localhost:8080/"
        },
        "outputId": "e000607a-fbb7-4ae2-c6eb-55a18f2b3afe"
      },
      "source": [
        "train_path=tf.keras.utils.get_file(\n",
        "    \"iris_training.csv\",\"https://storage.googleapis.com/download.tensorflow.org/data/iris_training.csv\")\n",
        "test_path=tf.keras.utils.get_file(\n",
        "    \"iris_test.csv\",\"https://storage.googleapis.com/download.tensorflow.org/data/iris_test.csv\")\n",
        "\n",
        "train = pd.read_csv(train_path,names=CSV_COLUMN_NAMES,header=0)\n",
        "test  = pd.read_csv(test_path,names=CSV_COLUMN_NAMES,header=0)"
      ],
      "execution_count": 4,
      "outputs": [
        {
          "output_type": "stream",
          "text": [
            "Downloading data from https://storage.googleapis.com/download.tensorflow.org/data/iris_training.csv\n",
            "\r8192/2194 [================================================================================================================] - 0s 0us/step\n",
            "Downloading data from https://storage.googleapis.com/download.tensorflow.org/data/iris_test.csv\n",
            "8192/573 [============================================================================================================================================================================================================================================================================================================================================================================================================================================] - 0s 0us/step\n"
          ],
          "name": "stdout"
        }
      ]
    },
    {
      "cell_type": "code",
      "metadata": {
        "id": "sHF6p0YrUZNv",
        "colab": {
          "base_uri": "https://localhost:8080/",
          "height": 204
        },
        "outputId": "a8a4ef63-a9ff-43d5-844f-1bbd138e0c71"
      },
      "source": [
        "train.head()"
      ],
      "execution_count": 5,
      "outputs": [
        {
          "output_type": "execute_result",
          "data": {
            "text/html": [
              "<div>\n",
              "<style scoped>\n",
              "    .dataframe tbody tr th:only-of-type {\n",
              "        vertical-align: middle;\n",
              "    }\n",
              "\n",
              "    .dataframe tbody tr th {\n",
              "        vertical-align: top;\n",
              "    }\n",
              "\n",
              "    .dataframe thead th {\n",
              "        text-align: right;\n",
              "    }\n",
              "</style>\n",
              "<table border=\"1\" class=\"dataframe\">\n",
              "  <thead>\n",
              "    <tr style=\"text-align: right;\">\n",
              "      <th></th>\n",
              "      <th>SepalLength</th>\n",
              "      <th>SepalWidth</th>\n",
              "      <th>PetalLength</th>\n",
              "      <th>PetalWidth</th>\n",
              "      <th>Species</th>\n",
              "    </tr>\n",
              "  </thead>\n",
              "  <tbody>\n",
              "    <tr>\n",
              "      <th>0</th>\n",
              "      <td>6.4</td>\n",
              "      <td>2.8</td>\n",
              "      <td>5.6</td>\n",
              "      <td>2.2</td>\n",
              "      <td>2</td>\n",
              "    </tr>\n",
              "    <tr>\n",
              "      <th>1</th>\n",
              "      <td>5.0</td>\n",
              "      <td>2.3</td>\n",
              "      <td>3.3</td>\n",
              "      <td>1.0</td>\n",
              "      <td>1</td>\n",
              "    </tr>\n",
              "    <tr>\n",
              "      <th>2</th>\n",
              "      <td>4.9</td>\n",
              "      <td>2.5</td>\n",
              "      <td>4.5</td>\n",
              "      <td>1.7</td>\n",
              "      <td>2</td>\n",
              "    </tr>\n",
              "    <tr>\n",
              "      <th>3</th>\n",
              "      <td>4.9</td>\n",
              "      <td>3.1</td>\n",
              "      <td>1.5</td>\n",
              "      <td>0.1</td>\n",
              "      <td>0</td>\n",
              "    </tr>\n",
              "    <tr>\n",
              "      <th>4</th>\n",
              "      <td>5.7</td>\n",
              "      <td>3.8</td>\n",
              "      <td>1.7</td>\n",
              "      <td>0.3</td>\n",
              "      <td>0</td>\n",
              "    </tr>\n",
              "  </tbody>\n",
              "</table>\n",
              "</div>"
            ],
            "text/plain": [
              "   SepalLength  SepalWidth  PetalLength  PetalWidth  Species\n",
              "0          6.4         2.8          5.6         2.2        2\n",
              "1          5.0         2.3          3.3         1.0        1\n",
              "2          4.9         2.5          4.5         1.7        2\n",
              "3          4.9         3.1          1.5         0.1        0\n",
              "4          5.7         3.8          1.7         0.3        0"
            ]
          },
          "metadata": {
            "tags": []
          },
          "execution_count": 5
        }
      ]
    },
    {
      "cell_type": "code",
      "metadata": {
        "id": "bsiELwvOU7xt"
      },
      "source": [
        "train_y = train.pop('Species')\n",
        "test_y  = test.pop('Species')"
      ],
      "execution_count": 6,
      "outputs": []
    },
    {
      "cell_type": "code",
      "metadata": {
        "id": "5cQCi36rXSYF"
      },
      "source": [
        "def input_fn(features,labels,training=True,batch_size=256):\n",
        "  dataset=tf.data.Dataset.from_tensor_slices((dict(features),labels)) #Covert the inputs into a DataSest\n",
        "\n",
        "  if training: #Shuffle and repeat if you are in training mode\n",
        "    dataset=dataset.shuffle(1000).repeat()\n",
        "\n",
        "  return dataset.batch(batch_size)"
      ],
      "execution_count": 7,
      "outputs": []
    },
    {
      "cell_type": "code",
      "metadata": {
        "id": "7ms5kz-XaGyU",
        "colab": {
          "base_uri": "https://localhost:8080/"
        },
        "outputId": "bee33eff-99ab-490b-b4da-3127ca34e8e2"
      },
      "source": [
        "#Feature columns describe how to use the input\n",
        "my_feature_columns=[]\n",
        "for key in train.keys():\n",
        "  my_feature_columns.append(tf.feature_column.numeric_column(key=key))\n",
        "print(my_feature_columns)"
      ],
      "execution_count": 8,
      "outputs": [
        {
          "output_type": "stream",
          "text": [
            "[NumericColumn(key='SepalLength', shape=(1,), default_value=None, dtype=tf.float32, normalizer_fn=None), NumericColumn(key='SepalWidth', shape=(1,), default_value=None, dtype=tf.float32, normalizer_fn=None), NumericColumn(key='PetalLength', shape=(1,), default_value=None, dtype=tf.float32, normalizer_fn=None), NumericColumn(key='PetalWidth', shape=(1,), default_value=None, dtype=tf.float32, normalizer_fn=None)]\n"
          ],
          "name": "stdout"
        }
      ]
    },
    {
      "cell_type": "code",
      "metadata": {
        "id": "kNTvcR86ODGD",
        "colab": {
          "base_uri": "https://localhost:8080/"
        },
        "outputId": "04cfb6b3-bfe7-4143-ebbe-152eb445fb8e"
      },
      "source": [
        "#Build a DNN with n-hidden layers with a certain number of nodes to choose with is a certain number of classes\n",
        "classifier=tf.estimator.DNNClassifier(\n",
        "    feature_columns=my_feature_columns,\n",
        "    # Two hidden layers of 30 and 10 nodes respectively.\n",
        "    hidden_units=[30,10],\n",
        "    # The model must choose between 3 classes.\n",
        "    n_classes=3)"
      ],
      "execution_count": 9,
      "outputs": [
        {
          "output_type": "stream",
          "text": [
            "INFO:tensorflow:Using default config.\n",
            "WARNING:tensorflow:Using temporary folder as model directory: /tmp/tmph75i7zfy\n",
            "INFO:tensorflow:Using config: {'_model_dir': '/tmp/tmph75i7zfy', '_tf_random_seed': None, '_save_summary_steps': 100, '_save_checkpoints_steps': None, '_save_checkpoints_secs': 600, '_session_config': allow_soft_placement: true\n",
            "graph_options {\n",
            "  rewrite_options {\n",
            "    meta_optimizer_iterations: ONE\n",
            "  }\n",
            "}\n",
            ", '_keep_checkpoint_max': 5, '_keep_checkpoint_every_n_hours': 10000, '_log_step_count_steps': 100, '_train_distribute': None, '_device_fn': None, '_protocol': None, '_eval_distribute': None, '_experimental_distribute': None, '_experimental_max_worker_delay_secs': None, '_session_creation_timeout_secs': 7200, '_checkpoint_save_graph_def': True, '_service': None, '_cluster_spec': ClusterSpec({}), '_task_type': 'worker', '_task_id': 0, '_global_id_in_cluster': 0, '_master': '', '_evaluation_master': '', '_is_chief': True, '_num_ps_replicas': 0, '_num_worker_replicas': 1}\n"
          ],
          "name": "stdout"
        }
      ]
    },
    {
      "cell_type": "code",
      "metadata": {
        "id": "37qZq-qnRctY",
        "colab": {
          "base_uri": "https://localhost:8080/"
        },
        "outputId": "639dea97-80c2-4e03-e9b1-420fe789945b"
      },
      "source": [
        "#Training the model unsig LAMBDA fuction\n",
        "#We use LAMBDA becuse we do not have a function that would retunr the input_fn object to us\n",
        "#Usig Steps instead of Epoch, to only look at the number of objects desire, both can be used for proceding adn processing\n",
        "classifier.train(\n",
        "    input_fn=lambda:input_fn(train,train_y,training=True), steps=5000)"
      ],
      "execution_count": 10,
      "outputs": [
        {
          "output_type": "stream",
          "text": [
            "WARNING:tensorflow:From /usr/local/lib/python3.7/dist-packages/tensorflow/python/training/training_util.py:236: Variable.initialized_value (from tensorflow.python.ops.variables) is deprecated and will be removed in a future version.\n",
            "Instructions for updating:\n",
            "Use Variable.read_value. Variables in 2.X are initialized automatically both in eager and graph (inside tf.defun) contexts.\n",
            "INFO:tensorflow:Calling model_fn.\n",
            "WARNING:tensorflow:From /usr/local/lib/python3.7/dist-packages/tensorflow/python/keras/optimizer_v2/adagrad.py:88: calling Constant.__init__ (from tensorflow.python.ops.init_ops) with dtype is deprecated and will be removed in a future version.\n",
            "Instructions for updating:\n",
            "Call initializer instance with the dtype argument instead of passing it to the constructor\n",
            "INFO:tensorflow:Done calling model_fn.\n",
            "INFO:tensorflow:Create CheckpointSaverHook.\n",
            "INFO:tensorflow:Graph was finalized.\n",
            "INFO:tensorflow:Running local_init_op.\n",
            "INFO:tensorflow:Done running local_init_op.\n",
            "INFO:tensorflow:Calling checkpoint listeners before saving checkpoint 0...\n",
            "INFO:tensorflow:Saving checkpoints for 0 into /tmp/tmph75i7zfy/model.ckpt.\n",
            "INFO:tensorflow:Calling checkpoint listeners after saving checkpoint 0...\n",
            "INFO:tensorflow:loss = 4.701971, step = 0\n",
            "INFO:tensorflow:global_step/sec: 426.768\n",
            "INFO:tensorflow:loss = 3.0692477, step = 100 (0.236 sec)\n",
            "INFO:tensorflow:global_step/sec: 557.189\n",
            "INFO:tensorflow:loss = 2.302468, step = 200 (0.184 sec)\n",
            "INFO:tensorflow:global_step/sec: 444.74\n",
            "INFO:tensorflow:loss = 1.9356389, step = 300 (0.224 sec)\n",
            "INFO:tensorflow:global_step/sec: 413.437\n",
            "INFO:tensorflow:loss = 1.6858995, step = 400 (0.244 sec)\n",
            "INFO:tensorflow:global_step/sec: 388.846\n",
            "INFO:tensorflow:loss = 1.4869683, step = 500 (0.255 sec)\n",
            "INFO:tensorflow:global_step/sec: 537.63\n",
            "INFO:tensorflow:loss = 1.3696613, step = 600 (0.185 sec)\n",
            "INFO:tensorflow:global_step/sec: 790.699\n",
            "INFO:tensorflow:loss = 1.2069771, step = 700 (0.124 sec)\n",
            "INFO:tensorflow:global_step/sec: 679.782\n",
            "INFO:tensorflow:loss = 1.132514, step = 800 (0.147 sec)\n",
            "INFO:tensorflow:global_step/sec: 534.553\n",
            "INFO:tensorflow:loss = 1.0520291, step = 900 (0.190 sec)\n",
            "INFO:tensorflow:global_step/sec: 626.128\n",
            "INFO:tensorflow:loss = 1.0030506, step = 1000 (0.157 sec)\n",
            "INFO:tensorflow:global_step/sec: 748.133\n",
            "INFO:tensorflow:loss = 0.97453046, step = 1100 (0.134 sec)\n",
            "INFO:tensorflow:global_step/sec: 707.899\n",
            "INFO:tensorflow:loss = 0.95943964, step = 1200 (0.141 sec)\n",
            "INFO:tensorflow:global_step/sec: 682.24\n",
            "INFO:tensorflow:loss = 0.92344075, step = 1300 (0.149 sec)\n",
            "INFO:tensorflow:global_step/sec: 790.133\n",
            "INFO:tensorflow:loss = 0.9075388, step = 1400 (0.127 sec)\n",
            "INFO:tensorflow:global_step/sec: 715.393\n",
            "INFO:tensorflow:loss = 0.8890456, step = 1500 (0.137 sec)\n",
            "INFO:tensorflow:global_step/sec: 802.351\n",
            "INFO:tensorflow:loss = 0.8768959, step = 1600 (0.125 sec)\n",
            "INFO:tensorflow:global_step/sec: 790.617\n",
            "INFO:tensorflow:loss = 0.8767962, step = 1700 (0.126 sec)\n",
            "INFO:tensorflow:global_step/sec: 809.446\n",
            "INFO:tensorflow:loss = 0.84093946, step = 1800 (0.126 sec)\n",
            "INFO:tensorflow:global_step/sec: 747.977\n",
            "INFO:tensorflow:loss = 0.82413834, step = 1900 (0.134 sec)\n",
            "INFO:tensorflow:global_step/sec: 821.052\n",
            "INFO:tensorflow:loss = 0.8212843, step = 2000 (0.121 sec)\n",
            "INFO:tensorflow:global_step/sec: 711.88\n",
            "INFO:tensorflow:loss = 0.79836273, step = 2100 (0.138 sec)\n",
            "INFO:tensorflow:global_step/sec: 725.924\n",
            "INFO:tensorflow:loss = 0.78355193, step = 2200 (0.140 sec)\n",
            "INFO:tensorflow:global_step/sec: 690.48\n",
            "INFO:tensorflow:loss = 0.7776878, step = 2300 (0.145 sec)\n",
            "INFO:tensorflow:global_step/sec: 638.384\n",
            "INFO:tensorflow:loss = 0.7670636, step = 2400 (0.156 sec)\n",
            "INFO:tensorflow:global_step/sec: 673.015\n",
            "INFO:tensorflow:loss = 0.75787, step = 2500 (0.147 sec)\n",
            "INFO:tensorflow:global_step/sec: 728.723\n",
            "INFO:tensorflow:loss = 0.7469477, step = 2600 (0.137 sec)\n",
            "INFO:tensorflow:global_step/sec: 733.073\n",
            "INFO:tensorflow:loss = 0.7350905, step = 2700 (0.136 sec)\n",
            "INFO:tensorflow:global_step/sec: 766.181\n",
            "INFO:tensorflow:loss = 0.72236043, step = 2800 (0.130 sec)\n",
            "INFO:tensorflow:global_step/sec: 787.744\n",
            "INFO:tensorflow:loss = 0.7151128, step = 2900 (0.127 sec)\n",
            "INFO:tensorflow:global_step/sec: 723.966\n",
            "INFO:tensorflow:loss = 0.7063031, step = 3000 (0.141 sec)\n",
            "INFO:tensorflow:global_step/sec: 792.709\n",
            "INFO:tensorflow:loss = 0.6910175, step = 3100 (0.126 sec)\n",
            "INFO:tensorflow:global_step/sec: 763.242\n",
            "INFO:tensorflow:loss = 0.69916975, step = 3200 (0.130 sec)\n",
            "INFO:tensorflow:global_step/sec: 780.675\n",
            "INFO:tensorflow:loss = 0.6853943, step = 3300 (0.129 sec)\n",
            "INFO:tensorflow:global_step/sec: 697.242\n",
            "INFO:tensorflow:loss = 0.6692975, step = 3400 (0.145 sec)\n",
            "INFO:tensorflow:global_step/sec: 704.28\n",
            "INFO:tensorflow:loss = 0.6733053, step = 3500 (0.140 sec)\n",
            "INFO:tensorflow:global_step/sec: 698.529\n",
            "INFO:tensorflow:loss = 0.6595068, step = 3600 (0.143 sec)\n",
            "INFO:tensorflow:global_step/sec: 698.337\n",
            "INFO:tensorflow:loss = 0.66101205, step = 3700 (0.142 sec)\n",
            "INFO:tensorflow:global_step/sec: 661.582\n",
            "INFO:tensorflow:loss = 0.6531952, step = 3800 (0.149 sec)\n",
            "INFO:tensorflow:global_step/sec: 733.714\n",
            "INFO:tensorflow:loss = 0.6403072, step = 3900 (0.142 sec)\n",
            "INFO:tensorflow:global_step/sec: 680.3\n",
            "INFO:tensorflow:loss = 0.63162684, step = 4000 (0.142 sec)\n",
            "INFO:tensorflow:global_step/sec: 712.517\n",
            "INFO:tensorflow:loss = 0.64180887, step = 4100 (0.142 sec)\n",
            "INFO:tensorflow:global_step/sec: 750.826\n",
            "INFO:tensorflow:loss = 0.6224172, step = 4200 (0.134 sec)\n",
            "INFO:tensorflow:global_step/sec: 673.612\n",
            "INFO:tensorflow:loss = 0.6213676, step = 4300 (0.149 sec)\n",
            "INFO:tensorflow:global_step/sec: 741.247\n",
            "INFO:tensorflow:loss = 0.5992438, step = 4400 (0.132 sec)\n",
            "INFO:tensorflow:global_step/sec: 721.493\n",
            "INFO:tensorflow:loss = 0.60820854, step = 4500 (0.139 sec)\n",
            "INFO:tensorflow:global_step/sec: 767.635\n",
            "INFO:tensorflow:loss = 0.6077467, step = 4600 (0.133 sec)\n",
            "INFO:tensorflow:global_step/sec: 746.829\n",
            "INFO:tensorflow:loss = 0.5940596, step = 4700 (0.134 sec)\n",
            "INFO:tensorflow:global_step/sec: 709.108\n",
            "INFO:tensorflow:loss = 0.59374315, step = 4800 (0.141 sec)\n",
            "INFO:tensorflow:global_step/sec: 770.489\n",
            "INFO:tensorflow:loss = 0.60470384, step = 4900 (0.127 sec)\n",
            "INFO:tensorflow:Calling checkpoint listeners before saving checkpoint 5000...\n",
            "INFO:tensorflow:Saving checkpoints for 5000 into /tmp/tmph75i7zfy/model.ckpt.\n",
            "INFO:tensorflow:Calling checkpoint listeners after saving checkpoint 5000...\n",
            "INFO:tensorflow:Loss for final step: 0.5885786.\n"
          ],
          "name": "stdout"
        },
        {
          "output_type": "execute_result",
          "data": {
            "text/plain": [
              "<tensorflow_estimator.python.estimator.canned.dnn.DNNClassifierV2 at 0x7fa79c1e6810>"
            ]
          },
          "metadata": {
            "tags": []
          },
          "execution_count": 10
        }
      ]
    },
    {
      "cell_type": "code",
      "metadata": {
        "id": "CG1TG0_6VSZI",
        "colab": {
          "base_uri": "https://localhost:8080/"
        },
        "outputId": "eb4f11cf-1274-4a2f-9983-6341a68ab661"
      },
      "source": [
        "#Evaluate the model Using LAMBDA as explain in the previous set\n",
        "eval_result=classifier.evaluate(\n",
        "    input_fn=lambda:input_fn(test,test_y,training=False))\n",
        "\n",
        "print('\\nTest set accuracy: {accuracy:0.3f}\\n'.format(**eval_result))"
      ],
      "execution_count": 11,
      "outputs": [
        {
          "output_type": "stream",
          "text": [
            "INFO:tensorflow:Calling model_fn.\n",
            "INFO:tensorflow:Done calling model_fn.\n",
            "INFO:tensorflow:Starting evaluation at 2021-08-14T19:41:48\n",
            "INFO:tensorflow:Graph was finalized.\n",
            "INFO:tensorflow:Restoring parameters from /tmp/tmph75i7zfy/model.ckpt-5000\n",
            "INFO:tensorflow:Running local_init_op.\n",
            "INFO:tensorflow:Done running local_init_op.\n",
            "INFO:tensorflow:Inference Time : 0.23086s\n",
            "INFO:tensorflow:Finished evaluation at 2021-08-14-19:41:48\n",
            "INFO:tensorflow:Saving dict for global step 5000: accuracy = 0.6666667, average_loss = 0.6654516, global_step = 5000, loss = 0.6654516\n",
            "INFO:tensorflow:Saving 'checkpoint_path' summary for global step 5000: /tmp/tmph75i7zfy/model.ckpt-5000\n",
            "\n",
            "Test set accuracy: 0.667\n",
            "\n"
          ],
          "name": "stdout"
        }
      ]
    },
    {
      "cell_type": "code",
      "metadata": {
        "colab": {
          "base_uri": "https://localhost:8080/"
        },
        "id": "99dQJMu0Z_y6",
        "outputId": "ee7ef38e-fb8d-485c-903f-4c7d75d85f93"
      },
      "source": [
        "def input_fn(features,batch_size=256):\n",
        "  #Convert the inputs to a DataSet without Labels.\n",
        "  return tf.data.Dataset.from_tensor_slices(dict(features)).batch(batch_size)\n",
        "\n",
        "features=['SepalLength','SepalWidth','PetalLength','PetalWidth']\n",
        "predict={}\n",
        "\n",
        "print(\"Please type numeric values as prompted\")\n",
        "for feature in features:\n",
        "  valid=True\n",
        "  while valid:\n",
        "    val=input(feature + \": \")\n",
        "    if not val.isdigit():valid =False\n",
        "  \n",
        "  predict[feature]=[float(val)]\n",
        "\n",
        "predictions=classifier.predict(input_fn=lambda:input_fn(predict))\n",
        "for pred_dict in predictions:\n",
        "  class_id=pred_dict['class_ids'][0]\n",
        "  probability= pred_dict['probabilities'][class_id]\n",
        "\n",
        "  print('Predictions is \"{}\" ({:.1f}%)'.format(\n",
        "      SPECIES[class_id],100 * probability))"
      ],
      "execution_count": 12,
      "outputs": [
        {
          "output_type": "stream",
          "text": [
            "Please type numeric values as prompted\n",
            "SepalLength: 0.2\n",
            "SepalWidth: 0.6\n",
            "PetalLength: 1.2\n",
            "PetalWidth: 0.7\n",
            "INFO:tensorflow:Calling model_fn.\n",
            "INFO:tensorflow:Done calling model_fn.\n",
            "INFO:tensorflow:Graph was finalized.\n",
            "INFO:tensorflow:Restoring parameters from /tmp/tmph75i7zfy/model.ckpt-5000\n",
            "INFO:tensorflow:Running local_init_op.\n",
            "INFO:tensorflow:Done running local_init_op.\n",
            "Predictions is \"Virginia\" (44.4%)\n"
          ],
          "name": "stdout"
        }
      ]
    }
  ]
}